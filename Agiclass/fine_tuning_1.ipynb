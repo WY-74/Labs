{
 "cells": [
  {
   "cell_type": "code",
   "execution_count": 1,
   "metadata": {},
   "outputs": [],
   "source": [
    "BATCH_SIZE = 64\n",
    "TEST_BACTH_SIZE = 1000\n",
    "EPOCHS = 5\n",
    "LR = 0.01\n",
    "SEED = 42\n",
    "LOG_INTERVAL = 100"
   ]
  },
  {
   "cell_type": "code",
   "execution_count": 2,
   "metadata": {},
   "outputs": [],
   "source": [
    "# 定义一个全连接网络\n",
    "\n",
    "import torch.nn as nn\n",
    "import torch.nn.functional as F\n",
    "\n",
    "class FeedForwardNet(nn.Module):\n",
    "    def __init__(self):\n",
    "        super().__init__()\n",
    "        # 第一层784维输入、256维输出 -- 图像大小28×28=784\n",
    "        self.fc1 = nn.Linear(784, 256)\n",
    "        # 第二层256维输入、128维输出\n",
    "        self.fc2 = nn.Linear(256, 128)\n",
    "        # 第三层128维输入、64维输出\n",
    "        self.fc3 = nn.Linear(128, 64)\n",
    "        # 第四层64维输入、10维输出 -- 输出类别10类（0,1,...9）\n",
    "        self.fc4 = nn.Linear(64, 10)\n",
    "\n",
    "        # Dropout module with 0.2 drop probability\n",
    "        self.dropout = nn.Dropout(p=0.2)\n",
    "\n",
    "    def forward(self, x):\n",
    "        # 把输入展平成1D向量\n",
    "        x = x.view(x.shape[0], -1)\n",
    "\n",
    "        # 每层激活函数是ReLU，额外加dropout\n",
    "        x = self.dropout(F.relu(self.fc1(x)))\n",
    "        x = self.dropout(F.relu(self.fc2(x)))\n",
    "        x = self.dropout(F.relu(self.fc3(x)))\n",
    "\n",
    "        # 输出为10维概率分布\n",
    "        x = F.log_softmax(self.fc4(x), dim=1)\n",
    "\n",
    "        return x"
   ]
  },
  {
   "cell_type": "code",
   "execution_count": 3,
   "metadata": {},
   "outputs": [],
   "source": [
    "# 训练过程\n",
    "def train(model, loss_fn, device, train_loader, optimizer, epoch):\n",
    "    # 开启梯度计算\n",
    "    model.train()\n",
    "    for batch_idx, (data_input, true_label) in enumerate(train_loader):\n",
    "        # 从数据加载器读取一个batch\n",
    "        # 把数据上载到GPU（如有）\n",
    "        data_input, true_label = data_input.to(device), true_label.to(device)\n",
    "        # 求解器初始化（每个batch初始化一次）\n",
    "        optimizer.zero_grad()\n",
    "        # 正向传播：模型由输入预测输出\n",
    "        output = model(data_input)\n",
    "        # 计算loss\n",
    "        loss = loss_fn(output, true_label)\n",
    "        # 反向传播：计算当前batch的loss的梯度\n",
    "        loss.backward()\n",
    "        # 由求解器根据梯度更新模型参数\n",
    "        optimizer.step()\n",
    "\n",
    "        # 间隔性的输出当前batch的训练loss\n",
    "        if batch_idx % LOG_INTERVAL == 0:\n",
    "            print('Train Epoch: {} [{}/{} ({:.0f}%)]\\tLoss: {:.6f}'.format(\n",
    "                epoch, batch_idx * len(data_input), len(train_loader.dataset),\n",
    "                100. * batch_idx / len(train_loader), loss.item()))"
   ]
  },
  {
   "cell_type": "code",
   "execution_count": 4,
   "metadata": {},
   "outputs": [],
   "source": [
    "# 计算在测试集的准确率和loss\n",
    "\n",
    "import torch\n",
    "\n",
    "def test(model, loss_fn, device, test_loader):\n",
    "    model.eval()\n",
    "    test_loss = 0\n",
    "    correct = 0\n",
    "    with torch.no_grad():\n",
    "        for data, target in test_loader:\n",
    "            data, target = data.to(device), target.to(device)\n",
    "            output = model(data)\n",
    "            # sum up batch loss\n",
    "            test_loss += loss_fn(output, target, reduction='sum').item()\n",
    "            # get the index of the max log-probability\n",
    "            pred = output.argmax(dim=1, keepdim=True)\n",
    "            correct += pred.eq(target.view_as(pred)).sum().item()\n",
    "\n",
    "    test_loss /= len(test_loader.dataset)\n",
    "\n",
    "    print('\\nTest set: Average loss: {:.4f}, Accuracy: {}/{} ({:.0f}%)\\n'.format(\n",
    "        test_loss, correct, len(test_loader.dataset),\n",
    "        100. * correct / len(test_loader.dataset)))"
   ]
  },
  {
   "cell_type": "markdown",
   "metadata": {},
   "source": [
    "### Main"
   ]
  },
  {
   "cell_type": "code",
   "execution_count": null,
   "metadata": {},
   "outputs": [],
   "source": [
    "use_cuda = torch.cuda.is_available()\n",
    "use_cuda"
   ]
  },
  {
   "cell_type": "code",
   "execution_count": null,
   "metadata": {},
   "outputs": [],
   "source": [
    "torch.manual_seed(SEED)"
   ]
  },
  {
   "cell_type": "code",
   "execution_count": null,
   "metadata": {},
   "outputs": [],
   "source": [
    "device = torch.device(\"cuda\" if use_cuda else \"cpu\")\n",
    "device"
   ]
  },
  {
   "cell_type": "code",
   "execution_count": 9,
   "metadata": {},
   "outputs": [],
   "source": [
    "# 设置batch size\n",
    "train_kwargs = {'batch_size': BATCH_SIZE}\n",
    "test_kwargs = {'batch_size': TEST_BACTH_SIZE}"
   ]
  },
  {
   "cell_type": "code",
   "execution_count": null,
   "metadata": {},
   "outputs": [],
   "source": [
    "# 数据预处理\n",
    "\n",
    "from torchvision import datasets, transforms\n",
    "\n",
    "# 转tensor、数值归一化\n",
    "transform = transforms.Compose([\n",
    "        transforms.ToTensor(),\n",
    "        transforms.Normalize((0.1307,), (0.3081,))\n",
    "    ])\n",
    "\n",
    "dataset_train = datasets.MNIST('data', train=True, download=True, transform=transform)\n",
    "dataset_test = datasets.MNIST('data', train=False, transform=transform)\n",
    "print(dataset_train)\n",
    "\n",
    "# 定义数据加载器\n",
    "train_loader = torch.utils.data.DataLoader(dataset_train, **train_kwargs)\n",
    "test_loader = torch.utils.data.DataLoader(dataset_test, **test_kwargs)"
   ]
  },
  {
   "cell_type": "code",
   "execution_count": 12,
   "metadata": {},
   "outputs": [],
   "source": [
    "# 创建神经网络模型\n",
    "model = FeedForwardNet().to(device)"
   ]
  },
  {
   "cell_type": "code",
   "execution_count": 13,
   "metadata": {},
   "outputs": [],
   "source": [
    "# 指定求解器\n",
    "\n",
    "import torch.optim as optim\n",
    "\n",
    "optimizer = optim.SGD(model.parameters(), lr=LR)\n",
    "# scheduler = StepLR(optimizer, step_size=1, gamma=0.9)"
   ]
  },
  {
   "cell_type": "code",
   "execution_count": 14,
   "metadata": {},
   "outputs": [],
   "source": [
    "# 定义loss函数\n",
    "# 注：nll 作用于 log_softmax 等价于交叉熵，感兴趣的同学可以自行推导\n",
    "# https://blog.csdn.net/weixin_38145317/article/details/103288032\n",
    "loss_fn = F.nll_loss"
   ]
  },
  {
   "cell_type": "code",
   "execution_count": null,
   "metadata": {},
   "outputs": [],
   "source": [
    "# 训练N个epoch\n",
    "for epoch in range(1, EPOCHS + 1):\n",
    "    train(model, loss_fn, device, train_loader, optimizer, epoch)\n",
    "    test(model, loss_fn, device, test_loader)\n",
    "    # scheduler.step()"
   ]
  }
 ],
 "metadata": {
  "kernelspec": {
   "display_name": "labs",
   "language": "python",
   "name": "python3"
  },
  "language_info": {
   "codemirror_mode": {
    "name": "ipython",
    "version": 3
   },
   "file_extension": ".py",
   "mimetype": "text/x-python",
   "name": "python",
   "nbconvert_exporter": "python",
   "pygments_lexer": "ipython3",
   "version": "3.11.11"
  }
 },
 "nbformat": 4,
 "nbformat_minor": 2
}
